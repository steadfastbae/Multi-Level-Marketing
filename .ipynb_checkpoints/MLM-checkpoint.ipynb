{
 "cells": [
  {
   "cell_type": "code",
   "execution_count": null,
   "id": "387993c9-1266-45d0-8a4c-20519dec86a7",
   "metadata": {},
   "outputs": [],
   "source": [
    "#\n",
    "#\n",
    "# Team Commission 추가부터 구현하기"
   ]
  },
  {
   "cell_type": "code",
   "execution_count": null,
   "id": "2837bd10-2f36-42ea-9578-d3d1a14f255e",
   "metadata": {},
   "outputs": [],
   "source": []
  },
  {
   "cell_type": "code",
   "execution_count": 33,
   "id": "0f64a12e-89f5-4d69-b3fe-702a51f676bf",
   "metadata": {},
   "outputs": [
    {
     "data": {
      "text/plain": [
       "3"
      ]
     },
     "execution_count": 33,
     "metadata": {},
     "output_type": "execute_result"
    }
   ],
   "source": [
    "# Implement Using Array\n",
    "# Node\n",
    "# -id\n",
    "# -\n",
    "# \n",
    "# \n",
    "# \n",
    "MAX_GENERATION = 10\n",
    "import numpy as np\n",
    "\n",
    "class Tree():\n",
    "    def __init__(self):\n",
    "        self.nodes = np.full((1, 2**MAX_GENERATION), 0).flatten() # exist: 1 else: 0\n",
    "        self.direct_bonus = np.full((1, 2**MAX_GENERATION), 0).flatten()\n",
    "        self.points = np.full((2**MAX_GENERATION, MAX_GENERATION), 0) \n",
    "        \n",
    "        self.direct_bonus_rate = .2\n",
    "        self.team_commission_rate = .1\n",
    "    \n",
    "    def getTreeSize(self):\n",
    "        return self.nodes.sum()\n",
    "    \n",
    "    def setDirectBonus(self, parent, price):\n",
    "        self.direct_bonus[parent] += self.direct_bonus_rate * price\n",
    "\n",
    "    def payDirectBonus(self, index):\n",
    "        self.direct_bonus[index] = 0\n",
    "    \n",
    "    def hasChild(self, index):\n",
    "        return self.nodes[2*parent] == 1 or self.nodes[2*parent+1] ==1\n",
    "    \n",
    "    def hasLeftChild(self, index):\n",
    "        return self.nodes[2*parent] == 1\n",
    "    \n",
    "    def hasRightChild(self, index):\n",
    "        return self.nodes[2*parent+1] == 1\n",
    "    \n",
    "    def isQualifyTeamCommission(self, index):\n",
    "        left_child = 2*index\n",
    "        right_child = 2*index + 1\n",
    "        if self.hasLeftChild(index) and self.hasRightChild(index):\n",
    "            if self.hasChild(left_child) or self.hasChild(right_child):\n",
    "                return True\n",
    "        return False\n",
    "    \n",
    "    def addTeamCommission(self, index, price):\n",
    "        parent = index//2\n",
    "        \n",
    "        while(parent < 1):\n",
    "            self.points[parent, index] += self.team_commission_rate * self.direct_bonus_rate * price\n",
    "            parent //= 2\n",
    "    \n",
    "    def addLeft(self, parent, price=10000):\n",
    "        if self.getTreeSize() == 0: \n",
    "            self.nodes[1] = 1\n",
    "            return\n",
    "        child = 2*parent\n",
    "        self.nodes[child] = 1\n",
    "        \n",
    "        # DirectSaleBonus\n",
    "        self.setDirectBonus(parent, price)\n",
    "    \n",
    "        # TeamCommission\n",
    "        \n",
    "    \n",
    "    def addRight(self, parent, price=10000):\n",
    "        if self.getTreeSize() == 0: \n",
    "            self.nodes[1] = 1\n",
    "            return\n",
    "        child = 2*parent + 1\n",
    "        self.nodes[child] = 1\n",
    "        setDirectBonus(parent, price)\n",
    "    \n",
    "    \n",
    "    \n",
    "tree = Tree()\n",
    "tree.getTreeSize()\n",
    "tree.addLeft(1)\n",
    "tree.addLeft(1)\n",
    "tree.addRight(1)\n",
    "tree.getTreeSize()\n"
   ]
  },
  {
   "cell_type": "code",
   "execution_count": null,
   "id": "e12605bf-0090-4fa3-a7ad-320327ad1f2f",
   "metadata": {},
   "outputs": [],
   "source": [
    "\n"
   ]
  }
 ],
 "metadata": {
  "kernelspec": {
   "display_name": "Python 3 (ipykernel)",
   "language": "python",
   "name": "python3"
  },
  "language_info": {
   "codemirror_mode": {
    "name": "ipython",
    "version": 3
   },
   "file_extension": ".py",
   "mimetype": "text/x-python",
   "name": "python",
   "nbconvert_exporter": "python",
   "pygments_lexer": "ipython3",
   "version": "3.9.13"
  }
 },
 "nbformat": 4,
 "nbformat_minor": 5
}
